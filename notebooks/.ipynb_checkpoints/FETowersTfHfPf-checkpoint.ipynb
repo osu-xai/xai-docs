{
 "cells": [
  {
   "cell_type": "markdown",
   "metadata": {},
   "source": [
    "I. Screenshot of Scenario\n",
    "-------------------------\n",
    "(add cell with screenshot of game map below here)"
   ]
  },
  {
   "cell_type": "markdown",
   "metadata": {},
   "source": [
    "H. Scenario/Map dynamics\n",
    "------------------------\n",
    "\n",
    "- how units are generated:\n",
    "- howmany units are generated:\n",
    "- where units are generated:\n",
    "etc..."
   ]
  },
  {
   "cell_type": "markdown",
   "metadata": {},
   "source": [
    "G. results\n",
    "------------------------\n",
    "(add graphs, example screenshots below here)"
   ]
  },
  {
   "cell_type": "markdown",
   "metadata": {},
   "source": [
    "F. spec for agent training, hyperparameters, etc\n",
    "-----------------------------------------------\n",
    "\n",
    "| parameter     | value   |\n",
    "| ------------- |-------------| \n",
    "| param1      | val1 | \n",
    "| | |\n",
    "| | |\n",
    "| | |\n",
    "| | |\n",
    "| | |\n",
    "| | |\n",
    "| | |\n",
    "| | |\n",
    "| | |\n",
    "| | |\n"
   ]
  },
  {
   "cell_type": "markdown",
   "metadata": {},
   "source": [
    "E. commands used to generate results\n",
    "------------------------------------\n",
    "Start Visdom: visdom\n",
    "\n",
    "\n",
    "(ideally someone should be able to use the info on this page to replicate the environment, rerun the experiment and regenerate results)"
   ]
  },
  {
   "cell_type": "markdown",
   "metadata": {},
   "source": [
    "D. software packages, versions \n",
    "------------------------------\n",
    "Starcraft II 4.1.2  \n",
    "Repo: https://github.com/osu-xai/abp branch: lzx_abp_branch\n",
    "\n",
    "environment replication steps commands used to position them\n",
    "------------------------------------------------------------\n",
    "git clone https://github.com/osu-xai/abp   \n",
    "cd abp   \n",
    "pip3 install -r requirements.txt  \n",
    "python3 setup.py install\n",
    "\n",
    "git status output\n",
    "------------------\n"
   ]
  },
  {
   "cell_type": "markdown",
   "metadata": {},
   "source": [
    "C. python\n",
    "------\n",
    "Python 3.6.4"
   ]
  },
  {
   "cell_type": "markdown",
   "metadata": {
    "collapsed": true
   },
   "source": [
    "B. GPU stack\n",
    "---------\n",
    "pytorch? tensorflow?  CUDA? NVidia drivers?"
   ]
  },
  {
   "cell_type": "markdown",
   "metadata": {
    "collapsed": true
   },
   "source": [
    "A. OS\n",
    "--\n",
    "Ubuntu 64bit 18.04.1"
   ]
  },
  {
   "cell_type": "code",
   "execution_count": null,
   "metadata": {},
   "outputs": [],
   "source": []
  }
 ],
 "metadata": {
  "anaconda-cloud": {},
  "kernelspec": {
   "display_name": "Python 3",
   "language": "python",
   "name": "python3"
  },
  "language_info": {
   "codemirror_mode": {
    "name": "ipython",
    "version": 3
   },
   "file_extension": ".py",
   "mimetype": "text/x-python",
   "name": "python",
   "nbconvert_exporter": "python",
   "pygments_lexer": "ipython3",
   "version": "3.5.2"
  }
 },
 "nbformat": 4,
 "nbformat_minor": 1
}
