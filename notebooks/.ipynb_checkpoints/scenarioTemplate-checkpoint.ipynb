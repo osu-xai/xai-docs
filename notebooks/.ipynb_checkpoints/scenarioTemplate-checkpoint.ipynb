{
 "cells": [
  {
   "cell_type": "markdown",
   "metadata": {},
   "source": [
    "M.  Situation prior to this experiment\n",
    "--------------------------------------\n",
    "(Some description of where were last time.)"
   ]
  },
  {
   "cell_type": "markdown",
   "metadata": {},
   "source": [
    "L. What we are changing in this experiment\n",
    "-------------------------------------------\n",
    "(approach or parameters that are different)"
   ]
  },
  {
   "cell_type": "markdown",
   "metadata": {},
   "source": [
    "K. Motivation for those changes\n",
    "-------------------------------\n",
    "(what we hope to find out)"
   ]
  },
  {
   "cell_type": "markdown",
   "metadata": {},
   "source": [
    "J. Purpose\n",
    "------------\n",
    "```\n",
    "(revise the sentence below to fit your experiment)\n",
    "```\n",
    "Do (or show) something under conditions x , y and z"
   ]
  },
  {
   "cell_type": "markdown",
   "metadata": {},
   "source": [
    "I. Screenshot of Scenario\n",
    "-------------------------\n",
    "(add cell with screenshot of game map below here)"
   ]
  },
  {
   "cell_type": "markdown",
   "metadata": {},
   "source": [
    "H. Scenario/Map dynamics\n",
    "------------------------\n",
    "\n",
    "- how units are generated:\n",
    "- howmany units are generated:\n",
    "- where units are generated:\n",
    "etc..."
   ]
  },
  {
   "cell_type": "markdown",
   "metadata": {},
   "source": [
    "G. results\n",
    "------------------------\n",
    "\n",
    "\n",
    "1. __Graph Explained__ (write enough explanation that it will make sense to Alan)\n",
    "    - graph shows what (and units) vs what (and units)\n",
    "    \n",
    "2. __Findings__ (write a listof points that show what you understand and don't)\n",
    "    - I expected w\n",
    "    - I learned x\n",
    "    - I learned y\n",
    "    - I'm confused by Z\n",
    "\n",
    "\n",
    "(add graphs, example screenshots below here)"
   ]
  },
  {
   "cell_type": "markdown",
   "metadata": {},
   "source": [
    "F.  Input layers  \n",
    "-----------------------------------------------  \n",
    "\n",
    "spec for agent training, hyperparameters, etc  (yaml files)\n",
    "-----------------------------------------------------------\n"
   ]
  },
  {
   "cell_type": "markdown",
   "metadata": {},
   "source": [
    "E. commands used to generate results\n",
    "------------------------------------\n",
    "(ideally someone should be able to use the info on this page to replicate the environment, rerun the experiment and regenerate results)"
   ]
  },
  {
   "cell_type": "markdown",
   "metadata": {},
   "source": [
    "D. software packages, versions \n",
    "------------------------------\n",
    "sc2 x.y.z?\n",
    "repo name, branch\n",
    "\n",
    "environment replication steps commands used to position them\n",
    "------------------------------------------------------------\n",
    "\n",
    "git status output\n",
    "------------------\n"
   ]
  },
  {
   "cell_type": "markdown",
   "metadata": {},
   "source": [
    "C. python\n",
    "------\n",
    "version?  Anaconda?"
   ]
  },
  {
   "cell_type": "markdown",
   "metadata": {
    "collapsed": true
   },
   "source": [
    "B. GPU stack\n",
    "---------\n",
    "pytorch? tensorflow?  CUDA? NVidia drivers?"
   ]
  },
  {
   "cell_type": "markdown",
   "metadata": {
    "collapsed": true
   },
   "source": [
    "A. OS\n",
    "--\n",
    "linux version?"
   ]
  }
 ],
 "metadata": {
  "anaconda-cloud": {},
  "kernelspec": {
   "display_name": "Python [default]",
   "language": "python",
   "name": "python3"
  },
  "language_info": {
   "codemirror_mode": {
    "name": "ipython",
    "version": 3
   },
   "file_extension": ".py",
   "mimetype": "text/x-python",
   "name": "python",
   "nbconvert_exporter": "python",
   "pygments_lexer": "ipython3",
   "version": "3.5.2"
  }
 },
 "nbformat": 4,
 "nbformat_minor": 1
}
