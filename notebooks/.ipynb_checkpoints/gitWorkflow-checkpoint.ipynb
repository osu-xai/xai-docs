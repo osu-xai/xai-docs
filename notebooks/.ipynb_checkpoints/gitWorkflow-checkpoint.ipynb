{
 "cells": [
  {
   "cell_type": "markdown",
   "metadata": {},
   "source": [
    "XAI SC2 scenarios\n",
    "=================\n",
    "\n",
    "- [Scenario A](http://localhost:8888/notebooks/scenarioA.ipynb)\n",
    "- [Scenario B](http://localhost:8888/notebooks/scenarioB.ipynb)\n",
    "- [Scenario C](http://localhost:8888/notebooks/scenarioC.ipynb)"
   ]
  },
  {
   "cell_type": "markdown",
   "metadata": {},
   "source": [
    "- [scenario template](http://localhost:8888/notebooks/scenarioTemplate.ipynb)"
   ]
  },
  {
   "cell_type": "markdown",
   "metadata": {
    "collapsed": true
   },
   "source": [
    "- [git workflow](http://localhost:8888/notebooks/gitWorkflow.ipynb)\n"
   ]
  },
  {
   "cell_type": "code",
   "execution_count": null,
   "metadata": {
    "collapsed": true
   },
   "outputs": [],
   "source": []
  }
 ],
 "metadata": {
  "anaconda-cloud": {},
  "kernelspec": {
   "display_name": "Python 3",
   "language": "python",
   "name": "python3"
  },
  "language_info": {
   "codemirror_mode": {
    "name": "ipython",
    "version": 3
   },
   "file_extension": ".py",
   "mimetype": "text/x-python",
   "name": "python",
   "nbconvert_exporter": "python",
   "pygments_lexer": "ipython3",
   "version": "3.5.2"
  }
 },
 "nbformat": 4,
 "nbformat_minor": 1
}
