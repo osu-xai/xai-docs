{
 "cells": [
  {
   "cell_type": "markdown",
   "metadata": {},
   "source": [
    "XAI SC2 experiments\n",
    "===================\n",
    "| person | experiment | date | ---------------------------------------------- notes --------------------------------------- | \n",
    "|--------|------------|------|-------|\n",
    "| Xian |learning rate [FETowersTfHfPf](http://localhost:8888/notebooks/FETowersTfHfPf.ipynb)  | Nov 28 2018 |fixed type, fixed health, fixed position|\n",
    "|Xian | learning rate [FETowersTfHfPr](http://localhost:8888/notebooks/FETowersTfHfPr.ipynb) | Nov 28 2018 |fixed type, fixed health, random position |\n",
    "|Xian | learning rate [FETowersTrHfPr](http://localhost:8888/notebooks/FETowersTrHfPr.ipynb)  | Nov 28 2018 |random type, fixed health, random position |\n",
    "|Amrita | learning rate [Simple Four Towers](http://localhost:8888/notebooks/Simple Four Towers.ipynb)  | Nov 30 2018 |- |\n",
    "|Amrita | learning rate [Four Towers Multiunit](http://localhost:8888/notebooks/Four Towers Multi Unit.ipynb)  | Nov 30 2018 |-|\n"
   ]
  },
  {
   "cell_type": "markdown",
   "metadata": {},
   "source": [
    "- [scenario template](http://localhost:8888/notebooks/scenarioTemplate.ipynb)"
   ]
  },
  {
   "cell_type": "markdown",
   "metadata": {
    "collapsed": true
   },
   "source": [
    "- [git workflow](http://localhost:8888/notebooks/gitWorkflow.ipynb)\n"
   ]
  },
  {
   "cell_type": "code",
   "execution_count": null,
   "metadata": {
    "collapsed": true
   },
   "outputs": [],
   "source": []
  }
 ],
 "metadata": {
  "anaconda-cloud": {},
  "kernelspec": {
   "display_name": "Python [default]",
   "language": "python",
   "name": "python3"
  },
  "language_info": {
   "codemirror_mode": {
    "name": "ipython",
    "version": 3
   },
   "file_extension": ".py",
   "mimetype": "text/x-python",
   "name": "python",
   "nbconvert_exporter": "python",
   "pygments_lexer": "ipython3",
   "version": "3.5.2"
  }
 },
 "nbformat": 4,
 "nbformat_minor": 1
}
