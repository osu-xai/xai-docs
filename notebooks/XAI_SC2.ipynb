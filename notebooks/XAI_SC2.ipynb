{
 "cells": [
  {
   "cell_type": "markdown",
   "metadata": {},
   "source": [
    "XAI SC2 scenarios\n",
    "=================\n",
    "\n",
    "- [FETowersTfHfPf](http://localhost:8888/notebooks/FETowersTfHfPf.ipynb) 11/28/2018\n",
    "- [FETowersTfHfPr](http://localhost:8888/notebooks/FETowersTfHfPr.ipynb) 11/28/2018\n",
    "- [FETowersTrHfPr](http://localhost:8888/notebooks/FETowersTrHfPr.ipynb) 11/28/2018\n",
    "- [Scenario XXY](http://localhost:8888/notebooks/scenarioC.ipynb)- [Scenario YYY](http://localhost:8888/notebooks/scenarioB.ipynb)\n",
    "- [Scenario GGG](http://localhost:8888/notebooks/scenarioGGG.ipynb)"
   ]
  },
  {
   "cell_type": "markdown",
   "metadata": {},
   "source": [
    "- [scenario template](http://localhost:8888/notebooks/scenarioTemplate.ipynb)"
   ]
  },
  {
   "cell_type": "markdown",
   "metadata": {
    "collapsed": true
   },
   "source": [
    "- [git workflow](http://localhost:8888/notebooks/gitWorkflow.ipynb)\n"
   ]
  },
  {
   "cell_type": "code",
   "execution_count": null,
   "metadata": {
    "collapsed": true
   },
   "outputs": [],
   "source": []
  }
 ],
 "metadata": {
  "anaconda-cloud": {},
  "kernelspec": {
   "display_name": "Python 3",
   "language": "python",
   "name": "python3"
  },
  "language_info": {
   "codemirror_mode": {
    "name": "ipython",
    "version": 3
   },
   "file_extension": ".py",
   "mimetype": "text/x-python",
   "name": "python",
   "nbconvert_exporter": "python",
   "pygments_lexer": "ipython3",
   "version": "3.6.4"
  }
 },
 "nbformat": 4,
 "nbformat_minor": 1
}
