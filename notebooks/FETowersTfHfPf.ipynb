{
 "cells": [
  {
   "cell_type": "markdown",
   "metadata": {},
   "source": [
    "J. Purpose\n",
    "-------------------------\n",
    "Measure the performance of the agent versus episodes for simple four towers scenario with friendly units.   \n",
    "Unit types, hit points and unit gourp position are fixed."
   ]
  },
  {
   "cell_type": "markdown",
   "metadata": {},
   "source": [
    "I. Screenshot of Scenario\n",
    "-------------------------\n",
    "<img src=\"img\\FETowersTfHfPf\\FETowersTfHfPf_ScreenShot.png\" alt=\"drawing\" width=\"600\"/>"
   ]
  },
  {
   "cell_type": "markdown",
   "metadata": {},
   "source": [
    "H. Scenario/Map dynamics\n",
    "------------------------\n",
    "- **how units are generated:** fixed units with full hit point\n",
    "- **how many units are generated:**  \n",
    "   - 4 self units(center)  \n",
    "   - 4 friendly units(Top-rigt)  \n",
    "   - 4 weakeast enemy units(Top-left)  \n",
    "   - 4 middle strength enemy units(Bottom-right)  \n",
    "   - 2 strongest enemy units(Bottom-left)\n",
    "\n",
    "- **where units are generated:** fixed position\n",
    "- **the condition of end an episode:** The self-unit is death\n",
    "- **remarks:** Reset the enemy units and friendly units after a group of enemy units or friendly units is death"
   ]
  },
  {
   "cell_type": "markdown",
   "metadata": {},
   "source": [
    "G. results\n",
    "------------------------\n"
   ]
  },
  {
   "cell_type": "code",
   "execution_count": 4,
   "metadata": {},
   "outputs": [
    {
     "name": "stdout",
     "output_type": "stream",
     "text": [
      "\n",
      "Learning curve: \n"
     ]
    },
    {
     "data": {
      "image/png": "[encoded data removed]",
      "text/plain": [
       "<Figure size 432x288 with 1 Axes>"
      ]
     },
     "metadata": {
      "needs_background": "light"
     },
     "output_type": "display_data"
    }
   ],
   "source": [
    "import matplotlib.pyplot as plt\n",
    "%matplotlib inline\n",
    "import os\n",
    "print(\"\\nLearning curve: \")\n",
    "RESULT_FILE = \"FETowersTfHfPf_results.txt\"\n",
    "result_dir = os.path.join(os.getcwd(), \"results\", RESULT_FILE)\n",
    "\n",
    "def plot(x, y, legend):\n",
    "    plt.figure(num = 1)\n",
    "    plt.plot(x,y)\n",
    "    plt.title('performance')\n",
    "    plt.legend(legend)\n",
    "    plt.xlabel(\"episodes\")\n",
    "    plt.ylabel(\"total rewards\")\n",
    "    \n",
    "def readResult(dir):\n",
    "    x = []\n",
    "    y = []\n",
    "    f = open(dir, 'r')\n",
    "    lines = f.readlines()\n",
    "    episode_size = int(lines[0])\n",
    "    for i,l in enumerate(lines[1:]):\n",
    "        y.append(float(l[0:-1]))\n",
    "        x.append((i + 1) * episode_size)\n",
    "    return x,y\n",
    "\n",
    "def mean(y):\n",
    "    meany = []\n",
    "    sum = 0\n",
    "    for i, v in enumerate(y):\n",
    "        sum += v\n",
    "        meany.append(sum / (i + 1))\n",
    "    return meany\n",
    "x, y = readResult(result_dir)\n",
    "my = mean(y)\n",
    "plot(x, y,[\"withOnehotAndNormalize\"])\n",
    "plot(x,my, [\"withOnehotAndNormalize\",\"mean\"])"
   ]
  },
  {
   "cell_type": "markdown",
   "metadata": {},
   "source": [
    "F.  Input layers  \n",
    "-----------------------------------------------   \n",
    "    player_id  (one-hot)  \n",
    "    unit_type  (one-hot)  \n",
    "    hit_point  (normalized)  \n",
    "    hit_point_ratio  (normalized)\n",
    "    unit_density  (normalized)  \n",
    "spec for agent training, hyperparameters, etc\n",
    "-----------------------------------------------\n",
    "- neuros network.yml:  \n",
    "```python\n",
    "networks:\n",
    "  - name: \"damageToMarine\"\n",
    "    layers:\n",
    "        - type: \"FC\"\n",
    "          neurons: 250\n",
    "  - name: \"damageByMarine\"\n",
    "    layers:\n",
    "        - type: \"FC\"\n",
    "          neurons: 250\n",
    "  - name: \"damageToZergling\"\n",
    "    layers:\n",
    "        - type: \"FC\"\n",
    "          neurons: 250\n",
    "  - name: \"damageByZergling\"\n",
    "    layers:\n",
    "        - type: \"FC\"\n",
    "          neurons: 250\n",
    "  - name: \"damageToMarauder\"\n",
    "    layers:\n",
    "        - type: \"FC\"\n",
    "          neurons: 250\n",
    "  - name: \"damageByMarauder\"\n",
    "    layers:\n",
    "        - type: \"FC\"\n",
    "          neurons: 250\n",
    "  - name: \"damageToHydralisk\"\n",
    "    layers:\n",
    "        - type: \"FC\"\n",
    "          neurons: 250\n",
    "  - name: \"damageByHydralisk\"\n",
    "    layers:\n",
    "        - type: \"FC\"\n",
    "          neurons: 250\n",
    "  - name: \"damageToThor\"\n",
    "    layers:\n",
    "        - type: \"FC\"\n",
    "          neurons: 250\n",
    "  - name: \"damageByThor\"\n",
    "    layers:\n",
    "        - type: \"FC\"\n",
    "          neurons: 250\n",
    "  - name: \"damageToUltralisk\"\n",
    "    layers:\n",
    "        - type: \"FC\"\n",
    "          neurons: 250\n",
    "  - name: \"damageByUltralisk\"\n",
    "    layers:\n",
    "        - type: \"FC\"\n",
    "          neurons: 250\n",
    "  - name: \"penalty\"\n",
    "    layers:\n",
    "        - type: \"FC\"\n",
    "          neurons: 250\n",
    "input_shape:\n",
    "    - 20800\n",
    "output_shape: 4\n",
    "shared_layers: [] #TODO\n",
    "aggeregator: \"average\" #TODO\n",
    "summaries_step: 100\n",
    "```\n",
    "\n",
    "\n",
    "- reinforce.yml: \n",
    "```python\n",
    "decay_steps: 300\n",
    "starting_epsilon: 1\n",
    "discount_factor: 0.99\n",
    "batch_size: 16\n",
    "memory_size: 100\n",
    "update_frequency: 10\n",
    "```"
   ]
  },
  {
   "cell_type": "markdown",
   "metadata": {},
   "source": [
    "E. commands used to generate results\n",
    "-----------------------------------  \n",
    "`% cd abp`  \n",
    "  \n",
    "  \n",
    "start visdom  \n",
    "`% visdom`\n",
    "\n",
    "run example  \n",
    "Change code of [FourTowerSequentialFriendlyUnits_onehot.py](https://github.com/osu-xai/abp/blob/master/abp/openai/envs/four_towers_friendly_units/FourTowerSequentialFriendlyUnits_onehot.py) to point \n",
    "to 'FourTowersWithFriendlyUnitsFixedEnemies' map  \n",
    "`% python -m abp.trainer.task_runner -f tasks/four_towers_friendly_units/hra/v1 -t abp.examples.pysc2.four_towers_friendly_units.hra`"
   ]
  },
  {
   "cell_type": "markdown",
   "metadata": {},
   "source": [
    "D. software packages, versions \n",
    "------------------------------\n",
    "Starcraft II 4.1.2  \n",
    "Repo: https://github.com/osu-xai/abp branch: lzx_abp_branch\n",
    "\n",
    "environment replication steps commands used to position them\n",
    "------------------------------------------------------------\n",
    "`git clone https://github.com/osu-xai/abp\n",
    "cd abp\n",
    "git checkout lzx_abp_branch\n",
    "pip3 install -r requirements.txt\n",
    "python3 setup.py install`\n",
    "\n",
    "git status output\n",
    "------------------\n",
    "`On branch lzx_abp_branch\n",
    "Your branch is up to date with 'origin/lzx_abp_branch'.`"
   ]
  },
  {
   "cell_type": "markdown",
   "metadata": {},
   "source": [
    "C. python\n",
    "------\n",
    "Python 3.6.4"
   ]
  },
  {
   "cell_type": "markdown",
   "metadata": {
    "collapsed": true
   },
   "source": [
    "B. GPU stack\n",
    "---------\n",
    "pytorch 0.4.1  \n",
    "tensorflow 1.6.0"
   ]
  },
  {
   "cell_type": "markdown",
   "metadata": {
    "collapsed": true
   },
   "source": [
    "A. OS\n",
    "--\n",
    "Ubuntu 64bit 18.04.1"
   ]
  }
 ],
 "metadata": {
  "anaconda-cloud": {},
  "kernelspec": {
   "display_name": "Python 3",
   "language": "python",
   "name": "python3"
  },
  "language_info": {
   "codemirror_mode": {
    "name": "ipython",
    "version": 3
   },
   "file_extension": ".py",
   "mimetype": "text/x-python",
   "name": "python",
   "nbconvert_exporter": "python",
   "pygments_lexer": "ipython3",
   "version": "3.6.7"
  }
 },
 "nbformat": 4,
 "nbformat_minor": 1
}
